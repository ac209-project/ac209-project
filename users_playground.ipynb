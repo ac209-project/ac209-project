{
 "cells": [
  {
   "cell_type": "markdown",
   "metadata": {},
   "source": [
    "## Get the playlists and tracks from the users Ryan gave in his text file\n",
    "\n",
    "Note: takes about 8-9 hours to run through 8000 users.\n",
    "\n",
    "##### Column info\n",
    "\n",
    "collaborative returns t/f\n",
    "description returns text\n",
    "take nothing from external_urls\n",
    "followers['total'] is the int\n",
    "nothing from href\n",
    "id is the id\n",
    "nothing from image\n",
    "text from name\n",
    "can get username from my query not from owner\n",
    "['tracks']['total'] gives you number of tracks\n",
    "\n",
    "tracks data frame\n",
    "from tracks items ['added_at'] get the data time the track was added\n",
    "from tracks items ['track'] get duration_ms as float\n",
    "for artist in tracks items ['track']['artists'][0]['name'] get the first artist\n",
    "from tracks items ['track'] get explicit as bool\n",
    "from tracks items ['track'] get id as string\n",
    "from tracks items ['track'] get name as string\n",
    "from tracks items ['track'] get popularity as float (0-100)"
   ]
  },
  {
   "cell_type": "code",
   "execution_count": 1,
   "metadata": {},
   "outputs": [],
   "source": [
    "# imports\n",
    "import numpy as np\n",
    "import pandas as pd \n",
    "import matplotlib.pyplot as plt\n",
    "import seaborn as sns\n",
    "\n",
    "sns.set_context('paper')\n",
    "sns.color_palette('muted')\n",
    "%matplotlib inline"
   ]
  },
  {
   "cell_type": "code",
   "execution_count": 45,
   "metadata": {},
   "outputs": [],
   "source": [
    "# Get the data\n",
    "plists = pd.read_json('data/plist_df.json')\n",
    "tracks = pd.read_json('data/track_df.json')\n"
   ]
  },
  {
   "cell_type": "code",
   "execution_count": 2,
   "metadata": {},
   "outputs": [],
   "source": [
    "user_followers = pd.read_json('getplaylist/user_follow.json')"
   ]
  },
  {
   "cell_type": "code",
   "execution_count": 4,
   "metadata": {},
   "outputs": [
    {
     "data": {
      "text/plain": [
       "8457"
      ]
     },
     "execution_count": 4,
     "metadata": {},
     "output_type": "execute_result"
    }
   ],
   "source": []
  },
  {
   "cell_type": "code",
   "execution_count": null,
   "metadata": {},
   "outputs": [],
   "source": []
  }
 ],
 "metadata": {
  "kernelspec": {
   "display_name": "Python 3",
   "language": "python",
   "name": "python3"
  },
  "language_info": {
   "codemirror_mode": {
    "name": "ipython",
    "version": 3
   },
   "file_extension": ".py",
   "mimetype": "text/x-python",
   "name": "python",
   "nbconvert_exporter": "python",
   "pygments_lexer": "ipython3",
   "version": "3.6.2"
  }
 },
 "nbformat": 4,
 "nbformat_minor": 2
}
