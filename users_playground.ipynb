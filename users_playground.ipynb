{
 "cells": [
  {
   "cell_type": "markdown",
   "metadata": {},
   "source": [
    "## Playground with some EDA and misc uses"
   ]
  },
  {
   "cell_type": "markdown",
   "metadata": {},
   "source": [
    "##### Column info\n",
    "\n",
    "collaborative returns t/f\n",
    "description returns text\n",
    "take nothing from external_urls\n",
    "followers['total'] is the int\n",
    "nothing from href\n",
    "id is the id\n",
    "nothing from image\n",
    "text from name\n",
    "can get username from my query not from owner\n",
    "['tracks']['total'] gives you number of tracks\n",
    "\n",
    "tracks data frame\n",
    "from tracks items ['added_at'] get the data time the track was added\n",
    "from tracks items ['track'] get duration_ms as float\n",
    "for artist in tracks items ['track']['artists'][0]['name'] get the first artist\n",
    "from tracks items ['track'] get explicit as bool\n",
    "from tracks items ['track'] get id as string\n",
    "from tracks items ['track'] get name as string\n",
    "from tracks items ['track'] get popularity as float (0-100)"
   ]
  },
  {
   "cell_type": "code",
   "execution_count": 1,
   "metadata": {},
   "outputs": [],
   "source": [
    "# imports\n",
    "import numpy as np\n",
    "import pandas as pd \n",
    "import matplotlib.pyplot as plt\n",
    "import seaborn as sns\n",
    "import utils\n",
    "\n",
    "sns.set_context('paper')\n",
    "sns.set_style('white')\n",
    "sns.color_palette('muted')\n",
    "%matplotlib inline"
   ]
  },
  {
   "cell_type": "code",
   "execution_count": 2,
   "metadata": {},
   "outputs": [
    {
     "data": {
      "text/html": [
       "<div>\n",
       "<style>\n",
       "    .dataframe thead tr:only-child th {\n",
       "        text-align: right;\n",
       "    }\n",
       "\n",
       "    .dataframe thead th {\n",
       "        text-align: left;\n",
       "    }\n",
       "\n",
       "    .dataframe tbody tr th {\n",
       "        vertical-align: top;\n",
       "    }\n",
       "</style>\n",
       "<table border=\"1\" class=\"dataframe\">\n",
       "  <thead>\n",
       "    <tr style=\"text-align: right;\">\n",
       "      <th></th>\n",
       "      <th>trk_added_at</th>\n",
       "      <th>art_name</th>\n",
       "      <th>trk_duration</th>\n",
       "      <th>explicit</th>\n",
       "      <th>trk_id</th>\n",
       "      <th>trk_name</th>\n",
       "      <th>pl_id</th>\n",
       "      <th>trk_popularity</th>\n",
       "      <th>artist_followers</th>\n",
       "      <th>artist_genre</th>\n",
       "      <th>...</th>\n",
       "      <th>pl_min_trkpop</th>\n",
       "      <th>pl_max_trkpop</th>\n",
       "      <th>pl_mean_trkpop</th>\n",
       "      <th>art_min_trkpop</th>\n",
       "      <th>art_max_trkpop</th>\n",
       "      <th>art_mean_trkpop</th>\n",
       "      <th>art_total_trks</th>\n",
       "      <th>art_class</th>\n",
       "      <th>user_pls_in_sample</th>\n",
       "      <th>pl_desc_chars</th>\n",
       "    </tr>\n",
       "  </thead>\n",
       "  <tbody>\n",
       "    <tr>\n",
       "      <th>0</th>\n",
       "      <td>2013-09-30 16:12:24</td>\n",
       "      <td>Allgott &amp; Villgott</td>\n",
       "      <td>119907.0</td>\n",
       "      <td>0.0</td>\n",
       "      <td>3aIptaHMnbIXRxPWKlqwc6</td>\n",
       "      <td>Klappa lamm</td>\n",
       "      <td>3ftsSOkyCsILZeAZYQr2jH</td>\n",
       "      <td>2.0</td>\n",
       "      <td>76.0</td>\n",
       "      <td>None</td>\n",
       "      <td>...</td>\n",
       "      <td>0.0</td>\n",
       "      <td>4.0</td>\n",
       "      <td>1.333333</td>\n",
       "      <td>0.0</td>\n",
       "      <td>6.0</td>\n",
       "      <td>1.764706</td>\n",
       "      <td>13</td>\n",
       "      <td>crap_factory</td>\n",
       "      <td>515</td>\n",
       "      <td>0</td>\n",
       "    </tr>\n",
       "    <tr>\n",
       "      <th>1</th>\n",
       "      <td>2013-10-05 15:22:13</td>\n",
       "      <td>Allgott &amp; Villgott</td>\n",
       "      <td>67918.0</td>\n",
       "      <td>0.0</td>\n",
       "      <td>0rPBlDWP6wcfax63Vs8nAF</td>\n",
       "      <td>Hej på dej</td>\n",
       "      <td>3ftsSOkyCsILZeAZYQr2jH</td>\n",
       "      <td>4.0</td>\n",
       "      <td>76.0</td>\n",
       "      <td>None</td>\n",
       "      <td>...</td>\n",
       "      <td>0.0</td>\n",
       "      <td>4.0</td>\n",
       "      <td>1.333333</td>\n",
       "      <td>0.0</td>\n",
       "      <td>6.0</td>\n",
       "      <td>1.764706</td>\n",
       "      <td>13</td>\n",
       "      <td>crap_factory</td>\n",
       "      <td>515</td>\n",
       "      <td>0</td>\n",
       "    </tr>\n",
       "    <tr>\n",
       "      <th>2</th>\n",
       "      <td>2014-07-16 13:50:24</td>\n",
       "      <td>J Boog</td>\n",
       "      <td>217270.0</td>\n",
       "      <td>0.0</td>\n",
       "      <td>4RjHalDdUreXDJSJLo44lK</td>\n",
       "      <td>Sunshine Girl</td>\n",
       "      <td>35XFuuqgCvTYQARix7CFpm</td>\n",
       "      <td>53.0</td>\n",
       "      <td>103793.0</td>\n",
       "      <td>[polynesian pop]</td>\n",
       "      <td>...</td>\n",
       "      <td>0.0</td>\n",
       "      <td>72.0</td>\n",
       "      <td>38.269231</td>\n",
       "      <td>0.0</td>\n",
       "      <td>58.0</td>\n",
       "      <td>38.419355</td>\n",
       "      <td>20</td>\n",
       "      <td>star</td>\n",
       "      <td>166</td>\n",
       "      <td>0</td>\n",
       "    </tr>\n",
       "    <tr>\n",
       "      <th>3</th>\n",
       "      <td>2014-07-06 09:12:01</td>\n",
       "      <td>Brennan Heart</td>\n",
       "      <td>222919.0</td>\n",
       "      <td>0.0</td>\n",
       "      <td>6A04TZRVZw8db1VsHeYOEx</td>\n",
       "      <td>Never Break Me - Toneshifterz Remix</td>\n",
       "      <td>0gGfciue2ZDCOG5uMv46gU</td>\n",
       "      <td>0.0</td>\n",
       "      <td>122496.0</td>\n",
       "      <td>[hardstyle]</td>\n",
       "      <td>...</td>\n",
       "      <td>0.0</td>\n",
       "      <td>58.0</td>\n",
       "      <td>15.510000</td>\n",
       "      <td>0.0</td>\n",
       "      <td>47.0</td>\n",
       "      <td>11.272727</td>\n",
       "      <td>18</td>\n",
       "      <td>crap_factory</td>\n",
       "      <td>166</td>\n",
       "      <td>0</td>\n",
       "    </tr>\n",
       "    <tr>\n",
       "      <th>4</th>\n",
       "      <td>2012-06-29 11:53:52</td>\n",
       "      <td>Johnny Ray</td>\n",
       "      <td>153375.0</td>\n",
       "      <td>0.0</td>\n",
       "      <td>1k4p7c69Dkh2b7s813ooR8</td>\n",
       "      <td>Yes Tonight, Josephine</td>\n",
       "      <td>6Tuex6CIDfZRyRtsmb5rwE</td>\n",
       "      <td>0.0</td>\n",
       "      <td>1281.0</td>\n",
       "      <td>None</td>\n",
       "      <td>...</td>\n",
       "      <td>0.0</td>\n",
       "      <td>0.0</td>\n",
       "      <td>0.000000</td>\n",
       "      <td>0.0</td>\n",
       "      <td>0.0</td>\n",
       "      <td>0.000000</td>\n",
       "      <td>1</td>\n",
       "      <td>garage_band</td>\n",
       "      <td>1731</td>\n",
       "      <td>0</td>\n",
       "    </tr>\n",
       "  </tbody>\n",
       "</table>\n",
       "<p>5 rows × 35 columns</p>\n",
       "</div>"
      ],
      "text/plain": [
       "         trk_added_at            art_name  trk_duration  explicit  \\\n",
       "0 2013-09-30 16:12:24  Allgott & Villgott      119907.0       0.0   \n",
       "1 2013-10-05 15:22:13  Allgott & Villgott       67918.0       0.0   \n",
       "2 2014-07-16 13:50:24              J Boog      217270.0       0.0   \n",
       "3 2014-07-06 09:12:01       Brennan Heart      222919.0       0.0   \n",
       "4 2012-06-29 11:53:52          Johnny Ray      153375.0       0.0   \n",
       "\n",
       "                   trk_id                             trk_name  \\\n",
       "0  3aIptaHMnbIXRxPWKlqwc6                          Klappa lamm   \n",
       "1  0rPBlDWP6wcfax63Vs8nAF                           Hej på dej   \n",
       "2  4RjHalDdUreXDJSJLo44lK                        Sunshine Girl   \n",
       "3  6A04TZRVZw8db1VsHeYOEx  Never Break Me - Toneshifterz Remix   \n",
       "4  1k4p7c69Dkh2b7s813ooR8               Yes Tonight, Josephine   \n",
       "\n",
       "                    pl_id  trk_popularity  artist_followers      artist_genre  \\\n",
       "0  3ftsSOkyCsILZeAZYQr2jH             2.0              76.0              None   \n",
       "1  3ftsSOkyCsILZeAZYQr2jH             4.0              76.0              None   \n",
       "2  35XFuuqgCvTYQARix7CFpm            53.0          103793.0  [polynesian pop]   \n",
       "3  0gGfciue2ZDCOG5uMv46gU             0.0          122496.0       [hardstyle]   \n",
       "4  6Tuex6CIDfZRyRtsmb5rwE             0.0            1281.0              None   \n",
       "\n",
       "       ...      pl_min_trkpop  pl_max_trkpop  pl_mean_trkpop art_min_trkpop  \\\n",
       "0      ...                0.0            4.0        1.333333            0.0   \n",
       "1      ...                0.0            4.0        1.333333            0.0   \n",
       "2      ...                0.0           72.0       38.269231            0.0   \n",
       "3      ...                0.0           58.0       15.510000            0.0   \n",
       "4      ...                0.0            0.0        0.000000            0.0   \n",
       "\n",
       "   art_max_trkpop art_mean_trkpop  art_total_trks     art_class  \\\n",
       "0             6.0        1.764706              13  crap_factory   \n",
       "1             6.0        1.764706              13  crap_factory   \n",
       "2            58.0       38.419355              20          star   \n",
       "3            47.0       11.272727              18  crap_factory   \n",
       "4             0.0        0.000000               1   garage_band   \n",
       "\n",
       "   user_pls_in_sample pl_desc_chars  \n",
       "0                 515             0  \n",
       "1                 515             0  \n",
       "2                 166             0  \n",
       "3                 166             0  \n",
       "4                1731             0  \n",
       "\n",
       "[5 rows x 35 columns]"
      ]
     },
     "execution_count": 2,
     "metadata": {},
     "output_type": "execute_result"
    }
   ],
   "source": [
    "# Get the data\n",
    "current_df = utils.make_working_df()\n",
    "current_df.head()"
   ]
  },
  {
   "cell_type": "code",
   "execution_count": 3,
   "metadata": {},
   "outputs": [
    {
     "data": {
      "text/plain": [
       "846"
      ]
     },
     "execution_count": 3,
     "metadata": {},
     "output_type": "execute_result"
    }
   ],
   "source": [
    "len(current_df['pl_owner'].drop_duplicates())"
   ]
  },
  {
   "cell_type": "code",
   "execution_count": 4,
   "metadata": {},
   "outputs": [
    {
     "data": {
      "text/plain": [
       "8183"
      ]
     },
     "execution_count": 4,
     "metadata": {},
     "output_type": "execute_result"
    }
   ],
   "source": [
    "len(current_df['pl_id'].drop_duplicates())"
   ]
  },
  {
   "cell_type": "code",
   "execution_count": 3,
   "metadata": {},
   "outputs": [],
   "source": [
    "# current_df[['track_name','artist','track_pop']].drop_duplicates().sort_values('track_pop',ascending=False)"
   ]
  },
  {
   "cell_type": "code",
   "execution_count": 4,
   "metadata": {},
   "outputs": [
    {
     "data": {
      "text/html": [
       "<div>\n",
       "<style>\n",
       "    .dataframe thead tr:only-child th {\n",
       "        text-align: right;\n",
       "    }\n",
       "\n",
       "    .dataframe thead th {\n",
       "        text-align: left;\n",
       "    }\n",
       "\n",
       "    .dataframe tbody tr th {\n",
       "        vertical-align: top;\n",
       "    }\n",
       "</style>\n",
       "<table border=\"1\" class=\"dataframe\">\n",
       "  <thead>\n",
       "    <tr style=\"text-align: right;\">\n",
       "      <th></th>\n",
       "      <th>artist_id</th>\n",
       "      <th>artist</th>\n",
       "      <th>artist_followers</th>\n",
       "      <th>artist_pop</th>\n",
       "      <th>artist_genre</th>\n",
       "    </tr>\n",
       "  </thead>\n",
       "  <tbody>\n",
       "    <tr>\n",
       "      <th>70</th>\n",
       "      <td>246dkjvS1zLTtiykXe5h60</td>\n",
       "      <td>Post Malone</td>\n",
       "      <td>1983963.0</td>\n",
       "      <td>100.0</td>\n",
       "      <td>[pop rap, rap]</td>\n",
       "    </tr>\n",
       "    <tr>\n",
       "      <th>9387</th>\n",
       "      <td>6LuN9FCkKOj5PcnpouEgny</td>\n",
       "      <td>Khalid</td>\n",
       "      <td>1106550.0</td>\n",
       "      <td>99.0</td>\n",
       "      <td>None</td>\n",
       "    </tr>\n",
       "    <tr>\n",
       "      <th>620</th>\n",
       "      <td>3TVXtAsR1Inumwj472S9r4</td>\n",
       "      <td>Drake</td>\n",
       "      <td>14093269.0</td>\n",
       "      <td>99.0</td>\n",
       "      <td>[canadian pop, hip hop, pop rap, rap]</td>\n",
       "    </tr>\n",
       "    <tr>\n",
       "      <th>1688</th>\n",
       "      <td>6eUKZXaKkcviH0Ku9w2n3V</td>\n",
       "      <td>Ed Sheeran</td>\n",
       "      <td>14150392.0</td>\n",
       "      <td>99.0</td>\n",
       "      <td>[pop]</td>\n",
       "    </tr>\n",
       "    <tr>\n",
       "      <th>360</th>\n",
       "      <td>1URnnhqYAYcrqrcwql10ft</td>\n",
       "      <td>21 Savage</td>\n",
       "      <td>2244008.0</td>\n",
       "      <td>98.0</td>\n",
       "      <td>[dwn trap, rap, trap music]</td>\n",
       "    </tr>\n",
       "  </tbody>\n",
       "</table>\n",
       "</div>"
      ],
      "text/plain": [
       "                   artist_id       artist  artist_followers  artist_pop  \\\n",
       "70    246dkjvS1zLTtiykXe5h60  Post Malone         1983963.0       100.0   \n",
       "9387  6LuN9FCkKOj5PcnpouEgny       Khalid         1106550.0        99.0   \n",
       "620   3TVXtAsR1Inumwj472S9r4        Drake        14093269.0        99.0   \n",
       "1688  6eUKZXaKkcviH0Ku9w2n3V   Ed Sheeran        14150392.0        99.0   \n",
       "360   1URnnhqYAYcrqrcwql10ft    21 Savage         2244008.0        98.0   \n",
       "\n",
       "                               artist_genre  \n",
       "70                           [pop rap, rap]  \n",
       "9387                                   None  \n",
       "620   [canadian pop, hip hop, pop rap, rap]  \n",
       "1688                                  [pop]  \n",
       "360             [dwn trap, rap, trap music]  "
      ]
     },
     "execution_count": 4,
     "metadata": {},
     "output_type": "execute_result"
    }
   ],
   "source": [
    "# for row in current_df['']\n",
    "# print(current_df.columns)\n",
    "ad = current_df[['artist_id','artist','artist_followers','artist_pop','artist_genre']].drop_duplicates('artist_id'\n",
    "                                                            ).sort_values('artist_pop',ascending=False)\n",
    "ad.head()"
   ]
  },
  {
   "cell_type": "code",
   "execution_count": 5,
   "metadata": {},
   "outputs": [],
   "source": [
    "current_df['artist_genre'] = [g if type(g)==list else [] for g in current_df['artist_genre']]\n",
    "bigdf = utils.explode_value(current_df,'artist_genre')"
   ]
  },
  {
   "cell_type": "code",
   "execution_count": 16,
   "metadata": {},
   "outputs": [],
   "source": [
    "best_g = bigdf[['artist_genre','artist_pop']].groupby('artist_genre',as_index=False).mean().sort_values('artist_pop',ascending=False)"
   ]
  },
  {
   "cell_type": "code",
   "execution_count": 38,
   "metadata": {},
   "outputs": [],
   "source": [
    "import matplotlib\n",
    "font = {'size'   : 38,\n",
    "       'weight':'normal'}\n",
    "\n",
    "matplotlib.rc('font', **font)"
   ]
  },
  {
   "cell_type": "code",
   "execution_count": 61,
   "metadata": {},
   "outputs": [
    {
     "name": "stdout",
     "output_type": "stream",
     "text": [
      "\n"
     ]
    },
    {
     "name": "stderr",
     "output_type": "stream",
     "text": [
      "/Users/paulblankley/anaconda3/lib/python3.6/site-packages/matplotlib/font_manager.py:1297: UserWarning: findfont: Font family ['normal'] not found. Falling back to DejaVu Sans\n",
      "  (prop.get_family(), self.defaultFamily[fontext]))\n"
     ]
    },
    {
     "data": {
      "image/png": "[encoded data removed]",
      "text/plain": [
       "<matplotlib.figure.Figure at 0x148cf2550>"
      ]
     },
     "metadata": {},
     "output_type": "display_data"
    }
   ],
   "source": [
    "temp = bigdf[bigdf['track_pop']>100]\n",
    "best_f = bigdf[['artist_genre','followers']].groupby('artist_genre',as_index=False).median().sort_values('followers',ascending=False)\n",
    "print()\n",
    "best_f = best_f.head(15)\n",
    "fig,ax = plt.subplots(figsize=(8,8))\n",
    "sns.barplot(data=best_f,y='artist_genre',x='followers',color='blue',ax=ax)\n",
    "plt.title('Most popular genres by median number of playlist followers.')\n",
    "plt.savefig('genre_followers')"
   ]
  },
  {
   "cell_type": "code",
   "execution_count": 39,
   "metadata": {},
   "outputs": [
    {
     "name": "stderr",
     "output_type": "stream",
     "text": [
      "/Users/paulblankley/anaconda3/lib/python3.6/site-packages/matplotlib/font_manager.py:1297: UserWarning: findfont: Font family ['normal'] not found. Falling back to DejaVu Sans\n",
      "  (prop.get_family(), self.defaultFamily[fontext]))\n"
     ]
    },
    {
     "data": {
      "image/png": "[encoded data removed]",
      "text/plain": [
       "<matplotlib.figure.Figure at 0x11c8f92e8>"
      ]
     },
     "metadata": {},
     "output_type": "display_data"
    }
   ],
   "source": [
    "# sns.barplot(data=adf,y='artist_genre',x='artist_pop')\n",
    "best_g = best_g.head(15)\n",
    "fig,ax = plt.subplots(figsize=(8,8))\n",
    "sns.barplot(data=best_g,y='artist_genre',x='artist_pop',color='blue',ax=ax)\n",
    "plt.title('Most popular genres by average artist Spotify popularity metric')\n",
    "plt.savefig('genre_pop')"
   ]
  },
  {
   "cell_type": "code",
   "execution_count": 15,
   "metadata": {},
   "outputs": [
    {
     "name": "stdout",
     "output_type": "stream",
     "text": [
      "480040\n"
     ]
    },
    {
     "data": {
      "text/html": [
       "<div>\n",
       "<style>\n",
       "    .dataframe thead tr:only-child th {\n",
       "        text-align: right;\n",
       "    }\n",
       "\n",
       "    .dataframe thead th {\n",
       "        text-align: left;\n",
       "    }\n",
       "\n",
       "    .dataframe tbody tr th {\n",
       "        vertical-align: top;\n",
       "    }\n",
       "</style>\n",
       "<table border=\"1\" class=\"dataframe\">\n",
       "  <thead>\n",
       "    <tr style=\"text-align: right;\">\n",
       "      <th></th>\n",
       "      <th>added_at</th>\n",
       "      <th>artist</th>\n",
       "      <th>artist_followers</th>\n",
       "      <th>artist_genre</th>\n",
       "      <th>artist_id</th>\n",
       "      <th>artist_pop</th>\n",
       "      <th>collab</th>\n",
       "      <th>desc</th>\n",
       "      <th>duration</th>\n",
       "      <th>explicit</th>\n",
       "      <th>followers</th>\n",
       "      <th>num_tracks</th>\n",
       "      <th>playlist_id</th>\n",
       "      <th>playlist_name</th>\n",
       "      <th>track_id</th>\n",
       "      <th>track_name</th>\n",
       "      <th>track_pop</th>\n",
       "      <th>user</th>\n",
       "      <th>user_followers</th>\n",
       "    </tr>\n",
       "  </thead>\n",
       "  <tbody>\n",
       "    <tr>\n",
       "      <th>7</th>\n",
       "      <td>2014-08-04 16:09:48</td>\n",
       "      <td>Becky G</td>\n",
       "      <td>1450915.0</td>\n",
       "      <td>dance pop</td>\n",
       "      <td>4obzFoKoKRHIphyHzJ35G3</td>\n",
       "      <td>85.0</td>\n",
       "      <td>False</td>\n",
       "      <td>None</td>\n",
       "      <td>206166.0</td>\n",
       "      <td>0.0</td>\n",
       "      <td>43.0</td>\n",
       "      <td>26</td>\n",
       "      <td>5BASWniNjjZADnD9i96L45</td>\n",
       "      <td>LIL'BITCH</td>\n",
       "      <td>3DmW6y7wTEYHJZlLo1r6XJ</td>\n",
       "      <td>Shower</td>\n",
       "      <td>70.0</td>\n",
       "      <td>thomasaunier</td>\n",
       "      <td>3812.0</td>\n",
       "    </tr>\n",
       "    <tr>\n",
       "      <th>8</th>\n",
       "      <td>2014-08-04 16:09:48</td>\n",
       "      <td>Becky G</td>\n",
       "      <td>1450915.0</td>\n",
       "      <td>pop</td>\n",
       "      <td>4obzFoKoKRHIphyHzJ35G3</td>\n",
       "      <td>85.0</td>\n",
       "      <td>False</td>\n",
       "      <td>None</td>\n",
       "      <td>206166.0</td>\n",
       "      <td>0.0</td>\n",
       "      <td>43.0</td>\n",
       "      <td>26</td>\n",
       "      <td>5BASWniNjjZADnD9i96L45</td>\n",
       "      <td>LIL'BITCH</td>\n",
       "      <td>3DmW6y7wTEYHJZlLo1r6XJ</td>\n",
       "      <td>Shower</td>\n",
       "      <td>70.0</td>\n",
       "      <td>thomasaunier</td>\n",
       "      <td>3812.0</td>\n",
       "    </tr>\n",
       "    <tr>\n",
       "      <th>9</th>\n",
       "      <td>2014-08-04 16:09:48</td>\n",
       "      <td>Becky G</td>\n",
       "      <td>1450915.0</td>\n",
       "      <td>post-teen pop</td>\n",
       "      <td>4obzFoKoKRHIphyHzJ35G3</td>\n",
       "      <td>85.0</td>\n",
       "      <td>False</td>\n",
       "      <td>None</td>\n",
       "      <td>206166.0</td>\n",
       "      <td>0.0</td>\n",
       "      <td>43.0</td>\n",
       "      <td>26</td>\n",
       "      <td>5BASWniNjjZADnD9i96L45</td>\n",
       "      <td>LIL'BITCH</td>\n",
       "      <td>3DmW6y7wTEYHJZlLo1r6XJ</td>\n",
       "      <td>Shower</td>\n",
       "      <td>70.0</td>\n",
       "      <td>thomasaunier</td>\n",
       "      <td>3812.0</td>\n",
       "    </tr>\n",
       "    <tr>\n",
       "      <th>13</th>\n",
       "      <td>2013-08-03 17:10:52</td>\n",
       "      <td>Elton John</td>\n",
       "      <td>1191231.0</td>\n",
       "      <td>glam rock</td>\n",
       "      <td>3PhoLpVuITZKcymswpck5b</td>\n",
       "      <td>82.0</td>\n",
       "      <td>False</td>\n",
       "      <td>None</td>\n",
       "      <td>290680.0</td>\n",
       "      <td>0.0</td>\n",
       "      <td>0.0</td>\n",
       "      <td>31</td>\n",
       "      <td>6uSxJmUwlS3RqjGEA0TRq8</td>\n",
       "      <td>Elton John</td>\n",
       "      <td>1DqMnZpdOXy4mjmsXnFv2t</td>\n",
       "      <td>Circle Of Life</td>\n",
       "      <td>4.0</td>\n",
       "      <td>ellenholstad</td>\n",
       "      <td>254.0</td>\n",
       "    </tr>\n",
       "    <tr>\n",
       "      <th>31</th>\n",
       "      <td>2017-08-20 10:53:49</td>\n",
       "      <td>Tony! Toni! Toné!</td>\n",
       "      <td>197033.0</td>\n",
       "      <td>dance pop</td>\n",
       "      <td>7vWlb4pM85jCHvV771qZZW</td>\n",
       "      <td>61.0</td>\n",
       "      <td>False</td>\n",
       "      <td>All the hits that all Batang &amp;#x27;90s loved l...</td>\n",
       "      <td>241466.0</td>\n",
       "      <td>0.0</td>\n",
       "      <td>7.0</td>\n",
       "      <td>127</td>\n",
       "      <td>0mEm0SZ7WsnI3w8ycnO6ue</td>\n",
       "      <td>The Fantastic '90s</td>\n",
       "      <td>0HsTJZWuj9vY7Ns0If1ARm</td>\n",
       "      <td>If I Had No Loot</td>\n",
       "      <td>37.0</td>\n",
       "      <td>1177637361</td>\n",
       "      <td>NaN</td>\n",
       "    </tr>\n",
       "  </tbody>\n",
       "</table>\n",
       "</div>"
      ],
      "text/plain": [
       "              added_at             artist  artist_followers   artist_genre  \\\n",
       "7  2014-08-04 16:09:48            Becky G         1450915.0      dance pop   \n",
       "8  2014-08-04 16:09:48            Becky G         1450915.0            pop   \n",
       "9  2014-08-04 16:09:48            Becky G         1450915.0  post-teen pop   \n",
       "13 2013-08-03 17:10:52         Elton John         1191231.0      glam rock   \n",
       "31 2017-08-20 10:53:49  Tony! Toni! Toné!          197033.0      dance pop   \n",
       "\n",
       "                 artist_id  artist_pop  collab  \\\n",
       "7   4obzFoKoKRHIphyHzJ35G3        85.0   False   \n",
       "8   4obzFoKoKRHIphyHzJ35G3        85.0   False   \n",
       "9   4obzFoKoKRHIphyHzJ35G3        85.0   False   \n",
       "13  3PhoLpVuITZKcymswpck5b        82.0   False   \n",
       "31  7vWlb4pM85jCHvV771qZZW        61.0   False   \n",
       "\n",
       "                                                 desc  duration  explicit  \\\n",
       "7                                                None  206166.0       0.0   \n",
       "8                                                None  206166.0       0.0   \n",
       "9                                                None  206166.0       0.0   \n",
       "13                                               None  290680.0       0.0   \n",
       "31  All the hits that all Batang &#x27;90s loved l...  241466.0       0.0   \n",
       "\n",
       "    followers  num_tracks             playlist_id       playlist_name  \\\n",
       "7        43.0          26  5BASWniNjjZADnD9i96L45           LIL'BITCH   \n",
       "8        43.0          26  5BASWniNjjZADnD9i96L45           LIL'BITCH   \n",
       "9        43.0          26  5BASWniNjjZADnD9i96L45           LIL'BITCH   \n",
       "13        0.0          31  6uSxJmUwlS3RqjGEA0TRq8          Elton John   \n",
       "31        7.0         127  0mEm0SZ7WsnI3w8ycnO6ue  The Fantastic '90s   \n",
       "\n",
       "                  track_id        track_name  track_pop          user  \\\n",
       "7   3DmW6y7wTEYHJZlLo1r6XJ            Shower       70.0  thomasaunier   \n",
       "8   3DmW6y7wTEYHJZlLo1r6XJ            Shower       70.0  thomasaunier   \n",
       "9   3DmW6y7wTEYHJZlLo1r6XJ            Shower       70.0  thomasaunier   \n",
       "13  1DqMnZpdOXy4mjmsXnFv2t    Circle Of Life        4.0  ellenholstad   \n",
       "31  0HsTJZWuj9vY7Ns0If1ARm  If I Had No Loot       37.0    1177637361   \n",
       "\n",
       "    user_followers  \n",
       "7           3812.0  \n",
       "8           3812.0  \n",
       "9           3812.0  \n",
       "13           254.0  \n",
       "31             NaN  "
      ]
     },
     "execution_count": 15,
     "metadata": {},
     "output_type": "execute_result"
    }
   ],
   "source": [
    "adf = bigdf[bigdf['artist_genre'].isin(best_g)]\n",
    "print(len(adf))\n",
    "adf.head()"
   ]
  },
  {
   "cell_type": "code",
   "execution_count": 45,
   "metadata": {},
   "outputs": [
    {
     "data": {
      "text/plain": [
       "<matplotlib.text.Text at 0x14b846ef0>"
      ]
     },
     "execution_count": 45,
     "metadata": {},
     "output_type": "execute_result"
    },
    {
     "name": "stderr",
     "output_type": "stream",
     "text": [
      "/Users/paulblankley/anaconda3/lib/python3.6/site-packages/matplotlib/font_manager.py:1297: UserWarning: findfont: Font family ['normal'] not found. Falling back to DejaVu Sans\n",
      "  (prop.get_family(), self.defaultFamily[fontext]))\n"
     ]
    },
    {
     "data": {
      "image/png": "[encoded data removed]",
      "text/plain": [
       "<matplotlib.figure.Figure at 0x14b838c88>"
      ]
     },
     "metadata": {},
     "output_type": "display_data"
    }
   ],
   "source": [
    "adf = adf.sort_values('artist_followers',ascending=False)\n",
    "fig,ax = plt.subplots(figsize=(8,8))\n",
    "sns.barplot(data=adf,y='artist_genre',x='followers',color='blue',estimator=np.median,ax=ax)\n",
    "plt.title('Genre by average followers ')"
   ]
  },
  {
   "cell_type": "markdown",
   "metadata": {},
   "source": [
    "## Possible outside Spotify datasources.\n",
    "\n",
    "The sqlite database below is from the million song dataset people, and the txt file is also from them, but for a different project."
   ]
  },
  {
   "cell_type": "code",
   "execution_count": null,
   "metadata": {},
   "outputs": [],
   "source": [
    "# table of interest is songs\n",
    "\n",
    "# Columns \n",
    "# 0|track_id|text|0||1\n",
    "# 1|title|text|0||0\n",
    "# 2|song_id|text|0||0\n",
    "# 3|release|text|0||0\n",
    "# 4|artist_id|text|0||0\n",
    "# 5|artist_mbid|text|0||0\n",
    "# 6|artist_name|text|0||0\n",
    "# 7|duration|real|0||0\n",
    "# 8|artist_familiarity|real|0||0\n",
    "# 9|artist_hotttnesss|real|0||0\n",
    "# 10|year|int|0||0\n",
    "# 11|track_7digitalid|int|0||0\n",
    "# 12|shs_perf|int|0||0\n",
    "# 13|shs_work|int|0||0\n",
    "\n",
    "# dpath = 'track_metadata.db'\n",
    "# import sqlite3 \n",
    "# db = sqlite3.connect(dpath)\n",
    "# cursor = db.cursor()\n",
    "# cursor.execute(\"select * from songs limit 5\").fetchall()"
   ]
  },
  {
   "cell_type": "code",
   "execution_count": null,
   "metadata": {},
   "outputs": [],
   "source": [
    "with open('data/msd_genre_dataset.txt', 'r') as file:\n",
    "    txt = file.read().split('\\n')[9:-1]\n",
    "    \n",
    "meta = [line.split(',') for line in txt]\n",
    "mdf = pd.DataFrame(meta[1:],columns=meta[0])   \n"
   ]
  },
  {
   "cell_type": "code",
   "execution_count": null,
   "metadata": {},
   "outputs": [],
   "source": [
    "mdf.head()"
   ]
  },
  {
   "cell_type": "code",
   "execution_count": null,
   "metadata": {},
   "outputs": [],
   "source": [
    "print('there are ',len(mdf[mdf['title'].isin(current_df['track_name'])]),'matching rows for tracks in this data.')"
   ]
  },
  {
   "cell_type": "raw",
   "metadata": {},
   "source": []
  }
 ],
 "metadata": {
  "kernelspec": {
   "display_name": "Python 3",
   "language": "python",
   "name": "python3"
  },
  "language_info": {
   "codemirror_mode": {
    "name": "ipython",
    "version": 3
   },
   "file_extension": ".py",
   "mimetype": "text/x-python",
   "name": "python",
   "nbconvert_exporter": "python",
   "pygments_lexer": "ipython3",
   "version": "3.6.2"
  }
 },
 "nbformat": 4,
 "nbformat_minor": 2
}
